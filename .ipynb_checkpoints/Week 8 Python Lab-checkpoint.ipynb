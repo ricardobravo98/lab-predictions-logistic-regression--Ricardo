{
 "cells": [
  {
   "cell_type": "code",
   "execution_count": 28,
   "id": "db282a1a",
   "metadata": {},
   "outputs": [
    {
     "name": "stdout",
     "output_type": "stream",
     "text": [
      "········\n"
     ]
    }
   ],
   "source": [
    "import pymysql\n",
    "from sqlalchemy import create_engine\n",
    "import pandas as pd\n",
    "import getpass  # To get the password without showing the input\n",
    "from sklearn.preprocessing import StandardScaler\n",
    "import numpy as np\n",
    "import matplotlib.pyplot as plt\n",
    "from sklearn.model_selection import train_test_split\n",
    "from sklearn.linear_model import LogisticRegression\n",
    "import seaborn as sns\n",
    "\n",
    "#%matplotlib inline\n",
    "password = getpass.getpass()\n",
    "connection_string = 'mysql+pymysql://root:' + password + '@localhost/sakila'\n",
    "engine = create_engine(connection_string)"
   ]
  },
  {
   "cell_type": "code",
   "execution_count": 29,
   "id": "9ca3cb17",
   "metadata": {
    "scrolled": true
   },
   "outputs": [
    {
     "data": {
      "text/html": [
       "<div>\n",
       "<style scoped>\n",
       "    .dataframe tbody tr th:only-of-type {\n",
       "        vertical-align: middle;\n",
       "    }\n",
       "\n",
       "    .dataframe tbody tr th {\n",
       "        vertical-align: top;\n",
       "    }\n",
       "\n",
       "    .dataframe thead th {\n",
       "        text-align: right;\n",
       "    }\n",
       "</style>\n",
       "<table border=\"1\" class=\"dataframe\">\n",
       "  <thead>\n",
       "    <tr style=\"text-align: right;\">\n",
       "      <th></th>\n",
       "      <th>title</th>\n",
       "      <th>length</th>\n",
       "      <th>rating</th>\n",
       "      <th>name</th>\n",
       "      <th>rental_date</th>\n",
       "    </tr>\n",
       "  </thead>\n",
       "  <tbody>\n",
       "    <tr>\n",
       "      <th>0</th>\n",
       "      <td>AMADEUS HOLY</td>\n",
       "      <td>113</td>\n",
       "      <td>PG</td>\n",
       "      <td>Action</td>\n",
       "      <td>2005-08-02 01:16:59</td>\n",
       "    </tr>\n",
       "    <tr>\n",
       "      <th>1</th>\n",
       "      <td>AMADEUS HOLY</td>\n",
       "      <td>113</td>\n",
       "      <td>PG</td>\n",
       "      <td>Action</td>\n",
       "      <td>2005-08-18 04:26:54</td>\n",
       "    </tr>\n",
       "    <tr>\n",
       "      <th>2</th>\n",
       "      <td>AMADEUS HOLY</td>\n",
       "      <td>113</td>\n",
       "      <td>PG</td>\n",
       "      <td>Action</td>\n",
       "      <td>2005-06-20 20:35:28</td>\n",
       "    </tr>\n",
       "    <tr>\n",
       "      <th>3</th>\n",
       "      <td>AMADEUS HOLY</td>\n",
       "      <td>113</td>\n",
       "      <td>PG</td>\n",
       "      <td>Action</td>\n",
       "      <td>2005-07-09 05:01:58</td>\n",
       "    </tr>\n",
       "    <tr>\n",
       "      <th>4</th>\n",
       "      <td>AMADEUS HOLY</td>\n",
       "      <td>113</td>\n",
       "      <td>PG</td>\n",
       "      <td>Action</td>\n",
       "      <td>2005-07-30 08:02:39</td>\n",
       "    </tr>\n",
       "  </tbody>\n",
       "</table>\n",
       "</div>"
      ],
      "text/plain": [
       "          title  length rating    name         rental_date\n",
       "0  AMADEUS HOLY     113     PG  Action 2005-08-02 01:16:59\n",
       "1  AMADEUS HOLY     113     PG  Action 2005-08-18 04:26:54\n",
       "2  AMADEUS HOLY     113     PG  Action 2005-06-20 20:35:28\n",
       "3  AMADEUS HOLY     113     PG  Action 2005-07-09 05:01:58\n",
       "4  AMADEUS HOLY     113     PG  Action 2005-07-30 08:02:39"
      ]
     },
     "execution_count": 29,
     "metadata": {},
     "output_type": "execute_result"
    }
   ],
   "source": [
    "query = '''SELECT a.title, a.length, a.rating, e.name, c.rental_date\n",
    "FROM film a \n",
    "JOIN film_category d\n",
    "on a.film_id = d.film_id\n",
    "Join category e\n",
    "on d.category_id = e.category_id\n",
    "JOIN inventory b \n",
    "ON a.film_id = b.film_id \n",
    "JOIN rental c \n",
    "ON b.inventory_id = c.inventory_id;'''\n",
    "\n",
    "data = pd.read_sql_query(query, engine)\n",
    "data.head()"
   ]
  },
  {
   "cell_type": "code",
   "execution_count": 30,
   "id": "383aa8ac",
   "metadata": {},
   "outputs": [
    {
     "data": {
      "text/html": [
       "<div>\n",
       "<style scoped>\n",
       "    .dataframe tbody tr th:only-of-type {\n",
       "        vertical-align: middle;\n",
       "    }\n",
       "\n",
       "    .dataframe tbody tr th {\n",
       "        vertical-align: top;\n",
       "    }\n",
       "\n",
       "    .dataframe thead th {\n",
       "        text-align: right;\n",
       "    }\n",
       "</style>\n",
       "<table border=\"1\" class=\"dataframe\">\n",
       "  <thead>\n",
       "    <tr style=\"text-align: right;\">\n",
       "      <th></th>\n",
       "      <th>title</th>\n",
       "      <th>length</th>\n",
       "      <th>rating</th>\n",
       "      <th>name</th>\n",
       "      <th>rental_date</th>\n",
       "    </tr>\n",
       "  </thead>\n",
       "  <tbody>\n",
       "    <tr>\n",
       "      <th>0</th>\n",
       "      <td>AMADEUS HOLY</td>\n",
       "      <td>113</td>\n",
       "      <td>PG</td>\n",
       "      <td>Action</td>\n",
       "      <td>2005-08-02 01:16:59</td>\n",
       "    </tr>\n",
       "    <tr>\n",
       "      <th>1</th>\n",
       "      <td>AMADEUS HOLY</td>\n",
       "      <td>113</td>\n",
       "      <td>PG</td>\n",
       "      <td>Action</td>\n",
       "      <td>2005-08-18 04:26:54</td>\n",
       "    </tr>\n",
       "    <tr>\n",
       "      <th>2</th>\n",
       "      <td>AMADEUS HOLY</td>\n",
       "      <td>113</td>\n",
       "      <td>PG</td>\n",
       "      <td>Action</td>\n",
       "      <td>2005-06-20 20:35:28</td>\n",
       "    </tr>\n",
       "    <tr>\n",
       "      <th>3</th>\n",
       "      <td>AMADEUS HOLY</td>\n",
       "      <td>113</td>\n",
       "      <td>PG</td>\n",
       "      <td>Action</td>\n",
       "      <td>2005-07-09 05:01:58</td>\n",
       "    </tr>\n",
       "    <tr>\n",
       "      <th>4</th>\n",
       "      <td>AMADEUS HOLY</td>\n",
       "      <td>113</td>\n",
       "      <td>PG</td>\n",
       "      <td>Action</td>\n",
       "      <td>2005-07-30 08:02:39</td>\n",
       "    </tr>\n",
       "    <tr>\n",
       "      <th>...</th>\n",
       "      <td>...</td>\n",
       "      <td>...</td>\n",
       "      <td>...</td>\n",
       "      <td>...</td>\n",
       "      <td>...</td>\n",
       "    </tr>\n",
       "    <tr>\n",
       "      <th>16039</th>\n",
       "      <td>WORKING MICROCOSMOS</td>\n",
       "      <td>74</td>\n",
       "      <td>R</td>\n",
       "      <td>Travel</td>\n",
       "      <td>2005-05-30 18:45:17</td>\n",
       "    </tr>\n",
       "    <tr>\n",
       "      <th>16040</th>\n",
       "      <td>WORKING MICROCOSMOS</td>\n",
       "      <td>74</td>\n",
       "      <td>R</td>\n",
       "      <td>Travel</td>\n",
       "      <td>2005-06-15 09:03:52</td>\n",
       "    </tr>\n",
       "    <tr>\n",
       "      <th>16041</th>\n",
       "      <td>WORKING MICROCOSMOS</td>\n",
       "      <td>74</td>\n",
       "      <td>R</td>\n",
       "      <td>Travel</td>\n",
       "      <td>2005-07-07 06:38:31</td>\n",
       "    </tr>\n",
       "    <tr>\n",
       "      <th>16042</th>\n",
       "      <td>WORKING MICROCOSMOS</td>\n",
       "      <td>74</td>\n",
       "      <td>R</td>\n",
       "      <td>Travel</td>\n",
       "      <td>2005-07-30 00:12:41</td>\n",
       "    </tr>\n",
       "    <tr>\n",
       "      <th>16043</th>\n",
       "      <td>WORKING MICROCOSMOS</td>\n",
       "      <td>74</td>\n",
       "      <td>R</td>\n",
       "      <td>Travel</td>\n",
       "      <td>2005-08-23 02:06:01</td>\n",
       "    </tr>\n",
       "  </tbody>\n",
       "</table>\n",
       "<p>16044 rows × 5 columns</p>\n",
       "</div>"
      ],
      "text/plain": [
       "                     title  length rating    name         rental_date\n",
       "0             AMADEUS HOLY     113     PG  Action 2005-08-02 01:16:59\n",
       "1             AMADEUS HOLY     113     PG  Action 2005-08-18 04:26:54\n",
       "2             AMADEUS HOLY     113     PG  Action 2005-06-20 20:35:28\n",
       "3             AMADEUS HOLY     113     PG  Action 2005-07-09 05:01:58\n",
       "4             AMADEUS HOLY     113     PG  Action 2005-07-30 08:02:39\n",
       "...                    ...     ...    ...     ...                 ...\n",
       "16039  WORKING MICROCOSMOS      74      R  Travel 2005-05-30 18:45:17\n",
       "16040  WORKING MICROCOSMOS      74      R  Travel 2005-06-15 09:03:52\n",
       "16041  WORKING MICROCOSMOS      74      R  Travel 2005-07-07 06:38:31\n",
       "16042  WORKING MICROCOSMOS      74      R  Travel 2005-07-30 00:12:41\n",
       "16043  WORKING MICROCOSMOS      74      R  Travel 2005-08-23 02:06:01\n",
       "\n",
       "[16044 rows x 5 columns]"
      ]
     },
     "execution_count": 30,
     "metadata": {},
     "output_type": "execute_result"
    }
   ],
   "source": [
    "data"
   ]
  },
  {
   "cell_type": "markdown",
   "id": "e32ae2ae",
   "metadata": {},
   "source": [
    "### Data Cleaning"
   ]
  },
  {
   "cell_type": "code",
   "execution_count": 8,
   "id": "6023cb92",
   "metadata": {},
   "outputs": [
    {
     "data": {
      "text/plain": [
       "(16044, 5)"
      ]
     },
     "execution_count": 8,
     "metadata": {},
     "output_type": "execute_result"
    }
   ],
   "source": [
    "data.shape"
   ]
  },
  {
   "cell_type": "code",
   "execution_count": 9,
   "id": "ac594626",
   "metadata": {},
   "outputs": [
    {
     "data": {
      "text/plain": [
       "<bound method NDFrame._add_numeric_operations.<locals>.sum of        title  length  rating   name  rental_date\n",
       "0      False   False   False  False        False\n",
       "1      False   False   False  False        False\n",
       "2      False   False   False  False        False\n",
       "3      False   False   False  False        False\n",
       "4      False   False   False  False        False\n",
       "...      ...     ...     ...    ...          ...\n",
       "16039  False   False   False  False        False\n",
       "16040  False   False   False  False        False\n",
       "16041  False   False   False  False        False\n",
       "16042  False   False   False  False        False\n",
       "16043  False   False   False  False        False\n",
       "\n",
       "[16044 rows x 5 columns]>"
      ]
     },
     "execution_count": 9,
     "metadata": {},
     "output_type": "execute_result"
    }
   ],
   "source": [
    "data.isna().sum"
   ]
  },
  {
   "cell_type": "code",
   "execution_count": 32,
   "id": "dbdb0c3e",
   "metadata": {},
   "outputs": [],
   "source": [
    "data['rental_date'] = data['rental_date'].astype(str)"
   ]
  },
  {
   "cell_type": "code",
   "execution_count": 33,
   "id": "cc8e1f46",
   "metadata": {
    "scrolled": true
   },
   "outputs": [
    {
     "data": {
      "text/html": [
       "<div>\n",
       "<style scoped>\n",
       "    .dataframe tbody tr th:only-of-type {\n",
       "        vertical-align: middle;\n",
       "    }\n",
       "\n",
       "    .dataframe tbody tr th {\n",
       "        vertical-align: top;\n",
       "    }\n",
       "\n",
       "    .dataframe thead th {\n",
       "        text-align: right;\n",
       "    }\n",
       "</style>\n",
       "<table border=\"1\" class=\"dataframe\">\n",
       "  <thead>\n",
       "    <tr style=\"text-align: right;\">\n",
       "      <th></th>\n",
       "      <th>title</th>\n",
       "      <th>length</th>\n",
       "      <th>rating</th>\n",
       "      <th>name</th>\n",
       "      <th>rental_date</th>\n",
       "    </tr>\n",
       "  </thead>\n",
       "  <tbody>\n",
       "    <tr>\n",
       "      <th>0</th>\n",
       "      <td>AMADEUS HOLY</td>\n",
       "      <td>113</td>\n",
       "      <td>PG</td>\n",
       "      <td>Action</td>\n",
       "      <td>2005-08-02</td>\n",
       "    </tr>\n",
       "    <tr>\n",
       "      <th>1</th>\n",
       "      <td>AMADEUS HOLY</td>\n",
       "      <td>113</td>\n",
       "      <td>PG</td>\n",
       "      <td>Action</td>\n",
       "      <td>2005-08-18</td>\n",
       "    </tr>\n",
       "    <tr>\n",
       "      <th>2</th>\n",
       "      <td>AMADEUS HOLY</td>\n",
       "      <td>113</td>\n",
       "      <td>PG</td>\n",
       "      <td>Action</td>\n",
       "      <td>2005-06-20</td>\n",
       "    </tr>\n",
       "    <tr>\n",
       "      <th>3</th>\n",
       "      <td>AMADEUS HOLY</td>\n",
       "      <td>113</td>\n",
       "      <td>PG</td>\n",
       "      <td>Action</td>\n",
       "      <td>2005-07-09</td>\n",
       "    </tr>\n",
       "    <tr>\n",
       "      <th>4</th>\n",
       "      <td>AMADEUS HOLY</td>\n",
       "      <td>113</td>\n",
       "      <td>PG</td>\n",
       "      <td>Action</td>\n",
       "      <td>2005-07-30</td>\n",
       "    </tr>\n",
       "    <tr>\n",
       "      <th>...</th>\n",
       "      <td>...</td>\n",
       "      <td>...</td>\n",
       "      <td>...</td>\n",
       "      <td>...</td>\n",
       "      <td>...</td>\n",
       "    </tr>\n",
       "    <tr>\n",
       "      <th>16039</th>\n",
       "      <td>WORKING MICROCOSMOS</td>\n",
       "      <td>74</td>\n",
       "      <td>R</td>\n",
       "      <td>Travel</td>\n",
       "      <td>2005-05-30</td>\n",
       "    </tr>\n",
       "    <tr>\n",
       "      <th>16040</th>\n",
       "      <td>WORKING MICROCOSMOS</td>\n",
       "      <td>74</td>\n",
       "      <td>R</td>\n",
       "      <td>Travel</td>\n",
       "      <td>2005-06-15</td>\n",
       "    </tr>\n",
       "    <tr>\n",
       "      <th>16041</th>\n",
       "      <td>WORKING MICROCOSMOS</td>\n",
       "      <td>74</td>\n",
       "      <td>R</td>\n",
       "      <td>Travel</td>\n",
       "      <td>2005-07-07</td>\n",
       "    </tr>\n",
       "    <tr>\n",
       "      <th>16042</th>\n",
       "      <td>WORKING MICROCOSMOS</td>\n",
       "      <td>74</td>\n",
       "      <td>R</td>\n",
       "      <td>Travel</td>\n",
       "      <td>2005-07-30</td>\n",
       "    </tr>\n",
       "    <tr>\n",
       "      <th>16043</th>\n",
       "      <td>WORKING MICROCOSMOS</td>\n",
       "      <td>74</td>\n",
       "      <td>R</td>\n",
       "      <td>Travel</td>\n",
       "      <td>2005-08-23</td>\n",
       "    </tr>\n",
       "  </tbody>\n",
       "</table>\n",
       "<p>16044 rows × 5 columns</p>\n",
       "</div>"
      ],
      "text/plain": [
       "                     title  length rating    name rental_date\n",
       "0             AMADEUS HOLY     113     PG  Action  2005-08-02\n",
       "1             AMADEUS HOLY     113     PG  Action  2005-08-18\n",
       "2             AMADEUS HOLY     113     PG  Action  2005-06-20\n",
       "3             AMADEUS HOLY     113     PG  Action  2005-07-09\n",
       "4             AMADEUS HOLY     113     PG  Action  2005-07-30\n",
       "...                    ...     ...    ...     ...         ...\n",
       "16039  WORKING MICROCOSMOS      74      R  Travel  2005-05-30\n",
       "16040  WORKING MICROCOSMOS      74      R  Travel  2005-06-15\n",
       "16041  WORKING MICROCOSMOS      74      R  Travel  2005-07-07\n",
       "16042  WORKING MICROCOSMOS      74      R  Travel  2005-07-30\n",
       "16043  WORKING MICROCOSMOS      74      R  Travel  2005-08-23\n",
       "\n",
       "[16044 rows x 5 columns]"
      ]
     },
     "execution_count": 33,
     "metadata": {},
     "output_type": "execute_result"
    }
   ],
   "source": [
    "data[\"rental_date\"] = data[\"rental_date\"].str[:10]\n",
    "data"
   ]
  },
  {
   "cell_type": "markdown",
   "id": "d48de89c",
   "metadata": {},
   "source": [
    "### Splitting Numerical and Categorical"
   ]
  },
  {
   "cell_type": "code",
   "execution_count": 46,
   "id": "19966b9c",
   "metadata": {},
   "outputs": [],
   "source": [
    "X = data.select_dtypes(include = \"number\")\n",
    "X_cat = data.select_dtypes(exclude = \"number\")\n"
   ]
  },
  {
   "cell_type": "markdown",
   "id": "34f85854",
   "metadata": {},
   "source": [
    "### Dummyfying"
   ]
  },
  {
   "cell_type": "code",
   "execution_count": 37,
   "id": "60831b45",
   "metadata": {},
   "outputs": [
    {
     "data": {
      "text/plain": [
       "array(['Action', 'Animation', 'Children', 'Classics', 'Comedy',\n",
       "       'Documentary', 'Drama', 'Family', 'Foreign', 'Games', 'Horror',\n",
       "       'Music', 'New', 'Sci-Fi', 'Sports', 'Travel'], dtype=object)"
      ]
     },
     "execution_count": 37,
     "metadata": {},
     "output_type": "execute_result"
    }
   ],
   "source": [
    "data.name.unique()"
   ]
  },
  {
   "cell_type": "code",
   "execution_count": 43,
   "id": "40fb0865",
   "metadata": {},
   "outputs": [],
   "source": [
    "dummies = pd.get_dummies(data[[\"name\", \"rating\"]])\n",
    "data = pd.concat([data,dummies], axis= 1)"
   ]
  },
  {
   "cell_type": "code",
   "execution_count": 48,
   "id": "e3066b70",
   "metadata": {},
   "outputs": [],
   "source": [
    "transformer = StandardScaler().fit(X)\n",
    "x_normalised = transformer.transform(X)\n",
    "x = pd.DataFrame(x_normalised)\n",
    "x.columns = X.columns"
   ]
  },
  {
   "cell_type": "code",
   "execution_count": 52,
   "id": "b4d2a3b6",
   "metadata": {},
   "outputs": [
    {
     "data": {
      "text/plain": [
       "<AxesSubplot:>"
      ]
     },
     "execution_count": 52,
     "metadata": {},
     "output_type": "execute_result"
    }
   ],
   "source": [
    "correlation = x.corr()\n",
    "sns.heatmap(correlation)"
   ]
  },
  {
   "cell_type": "code",
   "execution_count": 51,
   "id": "be6c58b4",
   "metadata": {},
   "outputs": [
    {
     "data": {
      "text/plain": [
       "<AxesSubplot:>"
      ]
     },
     "execution_count": 51,
     "metadata": {},
     "output_type": "execute_result"
    }
   ],
   "source": [
    "sns.heatmap(x)"
   ]
  },
  {
   "cell_type": "code",
   "execution_count": null,
   "id": "ced29e6d",
   "metadata": {},
   "outputs": [],
   "source": []
  },
  {
   "cell_type": "code",
   "execution_count": null,
   "id": "9374db06",
   "metadata": {},
   "outputs": [],
   "source": []
  },
  {
   "cell_type": "markdown",
   "id": "097b9b74",
   "metadata": {},
   "source": [
    "### X/Y Split"
   ]
  }
 ],
 "metadata": {
  "kernelspec": {
   "display_name": "Python 3 (ipykernel)",
   "language": "python",
   "name": "python3"
  },
  "language_info": {
   "codemirror_mode": {
    "name": "ipython",
    "version": 3
   },
   "file_extension": ".py",
   "mimetype": "text/x-python",
   "name": "python",
   "nbconvert_exporter": "python",
   "pygments_lexer": "ipython3",
   "version": "3.9.13"
  }
 },
 "nbformat": 4,
 "nbformat_minor": 5
}
