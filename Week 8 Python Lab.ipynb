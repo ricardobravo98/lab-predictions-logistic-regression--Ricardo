{
 "cells": [
  {
   "cell_type": "code",
   "execution_count": 2,
   "id": "db282a1a",
   "metadata": {},
   "outputs": [
    {
     "name": "stdout",
     "output_type": "stream",
     "text": [
      "········\n"
     ]
    }
   ],
   "source": [
    "import pymysql\n",
    "from sqlalchemy import create_engine\n",
    "import pandas as pd\n",
    "import getpass  # To get the password without showing the input\n",
    "from sklearn.preprocessing import StandardScaler\n",
    "import numpy as np\n",
    "import matplotlib.pyplot as plt\n",
    "from sklearn.model_selection import train_test_split\n",
    "from sklearn.linear_model import LogisticRegression\n",
    "import seaborn as sns\n",
    "\n",
    "#%matplotlib inline\n",
    "password = getpass.getpass()\n",
    "connection_string = 'mysql+pymysql://root:' + password + '@localhost/sakila'\n",
    "engine = create_engine(connection_string)"
   ]
  },
  {
   "cell_type": "code",
   "execution_count": 3,
   "id": "9ca3cb17",
   "metadata": {
    "scrolled": true
   },
   "outputs": [
    {
     "data": {
      "text/html": [
       "<div>\n",
       "<style scoped>\n",
       "    .dataframe tbody tr th:only-of-type {\n",
       "        vertical-align: middle;\n",
       "    }\n",
       "\n",
       "    .dataframe tbody tr th {\n",
       "        vertical-align: top;\n",
       "    }\n",
       "\n",
       "    .dataframe thead th {\n",
       "        text-align: right;\n",
       "    }\n",
       "</style>\n",
       "<table border=\"1\" class=\"dataframe\">\n",
       "  <thead>\n",
       "    <tr style=\"text-align: right;\">\n",
       "      <th></th>\n",
       "      <th>title</th>\n",
       "      <th>length</th>\n",
       "      <th>rating</th>\n",
       "      <th>name</th>\n",
       "      <th>rental_date</th>\n",
       "    </tr>\n",
       "  </thead>\n",
       "  <tbody>\n",
       "    <tr>\n",
       "      <th>0</th>\n",
       "      <td>AMADEUS HOLY</td>\n",
       "      <td>113</td>\n",
       "      <td>PG</td>\n",
       "      <td>Action</td>\n",
       "      <td>2005-08-02 01:16:59</td>\n",
       "    </tr>\n",
       "    <tr>\n",
       "      <th>1</th>\n",
       "      <td>AMADEUS HOLY</td>\n",
       "      <td>113</td>\n",
       "      <td>PG</td>\n",
       "      <td>Action</td>\n",
       "      <td>2005-08-18 04:26:54</td>\n",
       "    </tr>\n",
       "    <tr>\n",
       "      <th>2</th>\n",
       "      <td>AMADEUS HOLY</td>\n",
       "      <td>113</td>\n",
       "      <td>PG</td>\n",
       "      <td>Action</td>\n",
       "      <td>2005-06-20 20:35:28</td>\n",
       "    </tr>\n",
       "    <tr>\n",
       "      <th>3</th>\n",
       "      <td>AMADEUS HOLY</td>\n",
       "      <td>113</td>\n",
       "      <td>PG</td>\n",
       "      <td>Action</td>\n",
       "      <td>2005-07-09 05:01:58</td>\n",
       "    </tr>\n",
       "    <tr>\n",
       "      <th>4</th>\n",
       "      <td>AMADEUS HOLY</td>\n",
       "      <td>113</td>\n",
       "      <td>PG</td>\n",
       "      <td>Action</td>\n",
       "      <td>2005-07-30 08:02:39</td>\n",
       "    </tr>\n",
       "  </tbody>\n",
       "</table>\n",
       "</div>"
      ],
      "text/plain": [
       "          title  length rating    name         rental_date\n",
       "0  AMADEUS HOLY     113     PG  Action 2005-08-02 01:16:59\n",
       "1  AMADEUS HOLY     113     PG  Action 2005-08-18 04:26:54\n",
       "2  AMADEUS HOLY     113     PG  Action 2005-06-20 20:35:28\n",
       "3  AMADEUS HOLY     113     PG  Action 2005-07-09 05:01:58\n",
       "4  AMADEUS HOLY     113     PG  Action 2005-07-30 08:02:39"
      ]
     },
     "execution_count": 3,
     "metadata": {},
     "output_type": "execute_result"
    }
   ],
   "source": [
    "query = '''SELECT a.title, a.length, a.rating, e.name, c.rental_date\n",
    "FROM film a \n",
    "JOIN film_category d\n",
    "on a.film_id = d.film_id\n",
    "Join category e\n",
    "on d.category_id = e.category_id\n",
    "JOIN inventory b \n",
    "ON a.film_id = b.film_id \n",
    "JOIN rental c \n",
    "ON b.inventory_id = c.inventory_id;'''\n",
    "\n",
    "data = pd.read_sql_query(query, engine)\n",
    "data.head()"
   ]
  },
  {
   "cell_type": "code",
   "execution_count": 4,
   "id": "d3fd6b36",
   "metadata": {},
   "outputs": [
    {
     "data": {
      "text/html": [
       "<div>\n",
       "<style scoped>\n",
       "    .dataframe tbody tr th:only-of-type {\n",
       "        vertical-align: middle;\n",
       "    }\n",
       "\n",
       "    .dataframe tbody tr th {\n",
       "        vertical-align: top;\n",
       "    }\n",
       "\n",
       "    .dataframe thead th {\n",
       "        text-align: right;\n",
       "    }\n",
       "</style>\n",
       "<table border=\"1\" class=\"dataframe\">\n",
       "  <thead>\n",
       "    <tr style=\"text-align: right;\">\n",
       "      <th></th>\n",
       "      <th>title</th>\n",
       "      <th>length</th>\n",
       "      <th>rating</th>\n",
       "      <th>name</th>\n",
       "      <th>rental_date</th>\n",
       "    </tr>\n",
       "  </thead>\n",
       "  <tbody>\n",
       "    <tr>\n",
       "      <th>0</th>\n",
       "      <td>AMADEUS HOLY</td>\n",
       "      <td>113</td>\n",
       "      <td>PG</td>\n",
       "      <td>Action</td>\n",
       "      <td>2005-08-02 01:16:59</td>\n",
       "    </tr>\n",
       "    <tr>\n",
       "      <th>1</th>\n",
       "      <td>AMADEUS HOLY</td>\n",
       "      <td>113</td>\n",
       "      <td>PG</td>\n",
       "      <td>Action</td>\n",
       "      <td>2005-08-18 04:26:54</td>\n",
       "    </tr>\n",
       "    <tr>\n",
       "      <th>2</th>\n",
       "      <td>AMADEUS HOLY</td>\n",
       "      <td>113</td>\n",
       "      <td>PG</td>\n",
       "      <td>Action</td>\n",
       "      <td>2005-06-20 20:35:28</td>\n",
       "    </tr>\n",
       "    <tr>\n",
       "      <th>3</th>\n",
       "      <td>AMADEUS HOLY</td>\n",
       "      <td>113</td>\n",
       "      <td>PG</td>\n",
       "      <td>Action</td>\n",
       "      <td>2005-07-09 05:01:58</td>\n",
       "    </tr>\n",
       "    <tr>\n",
       "      <th>4</th>\n",
       "      <td>AMADEUS HOLY</td>\n",
       "      <td>113</td>\n",
       "      <td>PG</td>\n",
       "      <td>Action</td>\n",
       "      <td>2005-07-30 08:02:39</td>\n",
       "    </tr>\n",
       "    <tr>\n",
       "      <th>...</th>\n",
       "      <td>...</td>\n",
       "      <td>...</td>\n",
       "      <td>...</td>\n",
       "      <td>...</td>\n",
       "      <td>...</td>\n",
       "    </tr>\n",
       "    <tr>\n",
       "      <th>16039</th>\n",
       "      <td>WORKING MICROCOSMOS</td>\n",
       "      <td>74</td>\n",
       "      <td>R</td>\n",
       "      <td>Travel</td>\n",
       "      <td>2005-05-30 18:45:17</td>\n",
       "    </tr>\n",
       "    <tr>\n",
       "      <th>16040</th>\n",
       "      <td>WORKING MICROCOSMOS</td>\n",
       "      <td>74</td>\n",
       "      <td>R</td>\n",
       "      <td>Travel</td>\n",
       "      <td>2005-06-15 09:03:52</td>\n",
       "    </tr>\n",
       "    <tr>\n",
       "      <th>16041</th>\n",
       "      <td>WORKING MICROCOSMOS</td>\n",
       "      <td>74</td>\n",
       "      <td>R</td>\n",
       "      <td>Travel</td>\n",
       "      <td>2005-07-07 06:38:31</td>\n",
       "    </tr>\n",
       "    <tr>\n",
       "      <th>16042</th>\n",
       "      <td>WORKING MICROCOSMOS</td>\n",
       "      <td>74</td>\n",
       "      <td>R</td>\n",
       "      <td>Travel</td>\n",
       "      <td>2005-07-30 00:12:41</td>\n",
       "    </tr>\n",
       "    <tr>\n",
       "      <th>16043</th>\n",
       "      <td>WORKING MICROCOSMOS</td>\n",
       "      <td>74</td>\n",
       "      <td>R</td>\n",
       "      <td>Travel</td>\n",
       "      <td>2005-08-23 02:06:01</td>\n",
       "    </tr>\n",
       "  </tbody>\n",
       "</table>\n",
       "<p>16044 rows × 5 columns</p>\n",
       "</div>"
      ],
      "text/plain": [
       "                     title  length rating    name         rental_date\n",
       "0             AMADEUS HOLY     113     PG  Action 2005-08-02 01:16:59\n",
       "1             AMADEUS HOLY     113     PG  Action 2005-08-18 04:26:54\n",
       "2             AMADEUS HOLY     113     PG  Action 2005-06-20 20:35:28\n",
       "3             AMADEUS HOLY     113     PG  Action 2005-07-09 05:01:58\n",
       "4             AMADEUS HOLY     113     PG  Action 2005-07-30 08:02:39\n",
       "...                    ...     ...    ...     ...                 ...\n",
       "16039  WORKING MICROCOSMOS      74      R  Travel 2005-05-30 18:45:17\n",
       "16040  WORKING MICROCOSMOS      74      R  Travel 2005-06-15 09:03:52\n",
       "16041  WORKING MICROCOSMOS      74      R  Travel 2005-07-07 06:38:31\n",
       "16042  WORKING MICROCOSMOS      74      R  Travel 2005-07-30 00:12:41\n",
       "16043  WORKING MICROCOSMOS      74      R  Travel 2005-08-23 02:06:01\n",
       "\n",
       "[16044 rows x 5 columns]"
      ]
     },
     "execution_count": 4,
     "metadata": {},
     "output_type": "execute_result"
    }
   ],
   "source": [
    "data"
   ]
  },
  {
   "cell_type": "markdown",
   "id": "e32ae2ae",
   "metadata": {},
   "source": [
    "### Data Cleaning"
   ]
  },
  {
   "cell_type": "code",
   "execution_count": 5,
   "id": "6023cb92",
   "metadata": {},
   "outputs": [
    {
     "data": {
      "text/plain": [
       "(16044, 5)"
      ]
     },
     "execution_count": 5,
     "metadata": {},
     "output_type": "execute_result"
    }
   ],
   "source": [
    "data.shape"
   ]
  },
  {
   "cell_type": "code",
   "execution_count": 6,
   "id": "ac594626",
   "metadata": {},
   "outputs": [
    {
     "data": {
      "text/plain": [
       "<bound method NDFrame._add_numeric_operations.<locals>.sum of        title  length  rating   name  rental_date\n",
       "0      False   False   False  False        False\n",
       "1      False   False   False  False        False\n",
       "2      False   False   False  False        False\n",
       "3      False   False   False  False        False\n",
       "4      False   False   False  False        False\n",
       "...      ...     ...     ...    ...          ...\n",
       "16039  False   False   False  False        False\n",
       "16040  False   False   False  False        False\n",
       "16041  False   False   False  False        False\n",
       "16042  False   False   False  False        False\n",
       "16043  False   False   False  False        False\n",
       "\n",
       "[16044 rows x 5 columns]>"
      ]
     },
     "execution_count": 6,
     "metadata": {},
     "output_type": "execute_result"
    }
   ],
   "source": [
    "data.isna().sum"
   ]
  },
  {
   "cell_type": "code",
   "execution_count": 7,
   "id": "54387c99",
   "metadata": {},
   "outputs": [],
   "source": [
    "data['rental_date'] = data['rental_date'].astype(str)"
   ]
  },
  {
   "cell_type": "code",
   "execution_count": 8,
   "id": "cc8e1f46",
   "metadata": {
    "scrolled": true
   },
   "outputs": [
    {
     "data": {
      "text/html": [
       "<div>\n",
       "<style scoped>\n",
       "    .dataframe tbody tr th:only-of-type {\n",
       "        vertical-align: middle;\n",
       "    }\n",
       "\n",
       "    .dataframe tbody tr th {\n",
       "        vertical-align: top;\n",
       "    }\n",
       "\n",
       "    .dataframe thead th {\n",
       "        text-align: right;\n",
       "    }\n",
       "</style>\n",
       "<table border=\"1\" class=\"dataframe\">\n",
       "  <thead>\n",
       "    <tr style=\"text-align: right;\">\n",
       "      <th></th>\n",
       "      <th>title</th>\n",
       "      <th>length</th>\n",
       "      <th>rating</th>\n",
       "      <th>name</th>\n",
       "      <th>rental_date</th>\n",
       "    </tr>\n",
       "  </thead>\n",
       "  <tbody>\n",
       "    <tr>\n",
       "      <th>0</th>\n",
       "      <td>AMADEUS HOLY</td>\n",
       "      <td>113</td>\n",
       "      <td>PG</td>\n",
       "      <td>Action</td>\n",
       "      <td>2005-08-02</td>\n",
       "    </tr>\n",
       "    <tr>\n",
       "      <th>1</th>\n",
       "      <td>AMADEUS HOLY</td>\n",
       "      <td>113</td>\n",
       "      <td>PG</td>\n",
       "      <td>Action</td>\n",
       "      <td>2005-08-18</td>\n",
       "    </tr>\n",
       "    <tr>\n",
       "      <th>2</th>\n",
       "      <td>AMADEUS HOLY</td>\n",
       "      <td>113</td>\n",
       "      <td>PG</td>\n",
       "      <td>Action</td>\n",
       "      <td>2005-06-20</td>\n",
       "    </tr>\n",
       "    <tr>\n",
       "      <th>3</th>\n",
       "      <td>AMADEUS HOLY</td>\n",
       "      <td>113</td>\n",
       "      <td>PG</td>\n",
       "      <td>Action</td>\n",
       "      <td>2005-07-09</td>\n",
       "    </tr>\n",
       "    <tr>\n",
       "      <th>4</th>\n",
       "      <td>AMADEUS HOLY</td>\n",
       "      <td>113</td>\n",
       "      <td>PG</td>\n",
       "      <td>Action</td>\n",
       "      <td>2005-07-30</td>\n",
       "    </tr>\n",
       "    <tr>\n",
       "      <th>...</th>\n",
       "      <td>...</td>\n",
       "      <td>...</td>\n",
       "      <td>...</td>\n",
       "      <td>...</td>\n",
       "      <td>...</td>\n",
       "    </tr>\n",
       "    <tr>\n",
       "      <th>16039</th>\n",
       "      <td>WORKING MICROCOSMOS</td>\n",
       "      <td>74</td>\n",
       "      <td>R</td>\n",
       "      <td>Travel</td>\n",
       "      <td>2005-05-30</td>\n",
       "    </tr>\n",
       "    <tr>\n",
       "      <th>16040</th>\n",
       "      <td>WORKING MICROCOSMOS</td>\n",
       "      <td>74</td>\n",
       "      <td>R</td>\n",
       "      <td>Travel</td>\n",
       "      <td>2005-06-15</td>\n",
       "    </tr>\n",
       "    <tr>\n",
       "      <th>16041</th>\n",
       "      <td>WORKING MICROCOSMOS</td>\n",
       "      <td>74</td>\n",
       "      <td>R</td>\n",
       "      <td>Travel</td>\n",
       "      <td>2005-07-07</td>\n",
       "    </tr>\n",
       "    <tr>\n",
       "      <th>16042</th>\n",
       "      <td>WORKING MICROCOSMOS</td>\n",
       "      <td>74</td>\n",
       "      <td>R</td>\n",
       "      <td>Travel</td>\n",
       "      <td>2005-07-30</td>\n",
       "    </tr>\n",
       "    <tr>\n",
       "      <th>16043</th>\n",
       "      <td>WORKING MICROCOSMOS</td>\n",
       "      <td>74</td>\n",
       "      <td>R</td>\n",
       "      <td>Travel</td>\n",
       "      <td>2005-08-23</td>\n",
       "    </tr>\n",
       "  </tbody>\n",
       "</table>\n",
       "<p>16044 rows × 5 columns</p>\n",
       "</div>"
      ],
      "text/plain": [
       "                     title  length rating    name rental_date\n",
       "0             AMADEUS HOLY     113     PG  Action  2005-08-02\n",
       "1             AMADEUS HOLY     113     PG  Action  2005-08-18\n",
       "2             AMADEUS HOLY     113     PG  Action  2005-06-20\n",
       "3             AMADEUS HOLY     113     PG  Action  2005-07-09\n",
       "4             AMADEUS HOLY     113     PG  Action  2005-07-30\n",
       "...                    ...     ...    ...     ...         ...\n",
       "16039  WORKING MICROCOSMOS      74      R  Travel  2005-05-30\n",
       "16040  WORKING MICROCOSMOS      74      R  Travel  2005-06-15\n",
       "16041  WORKING MICROCOSMOS      74      R  Travel  2005-07-07\n",
       "16042  WORKING MICROCOSMOS      74      R  Travel  2005-07-30\n",
       "16043  WORKING MICROCOSMOS      74      R  Travel  2005-08-23\n",
       "\n",
       "[16044 rows x 5 columns]"
      ]
     },
     "execution_count": 8,
     "metadata": {},
     "output_type": "execute_result"
    }
   ],
   "source": [
    "data[\"rental_date\"] = data[\"rental_date\"].str[:10]\n",
    "data"
   ]
  },
  {
   "cell_type": "markdown",
   "id": "5ff70602",
   "metadata": {},
   "source": [
    "### Splitting Numerical and Categorical"
   ]
  },
  {
   "cell_type": "code",
   "execution_count": 9,
   "id": "271967af",
   "metadata": {},
   "outputs": [],
   "source": [
    "X = data.select_dtypes(include = \"number\")\n",
    "X_cat = data.select_dtypes(exclude = \"number\")\n"
   ]
  },
  {
   "cell_type": "markdown",
   "id": "a8f51e67",
   "metadata": {},
   "source": [
    "### Dummyfying"
   ]
  },
  {
   "cell_type": "code",
   "execution_count": 10,
   "id": "5b2a7a9a",
   "metadata": {},
   "outputs": [
    {
     "data": {
      "text/plain": [
       "array(['Action', 'Animation', 'Children', 'Classics', 'Comedy',\n",
       "       'Documentary', 'Drama', 'Family', 'Foreign', 'Games', 'Horror',\n",
       "       'Music', 'New', 'Sci-Fi', 'Sports', 'Travel'], dtype=object)"
      ]
     },
     "execution_count": 10,
     "metadata": {},
     "output_type": "execute_result"
    }
   ],
   "source": [
    "data.name.unique()"
   ]
  },
  {
   "cell_type": "code",
   "execution_count": 11,
   "id": "7a025e4e",
   "metadata": {},
   "outputs": [],
   "source": [
    "dummies = pd.get_dummies(data[[\"name\", \"rating\"]])\n",
    "data = pd.concat([data,dummies], axis= 1)"
   ]
  },
  {
   "cell_type": "code",
   "execution_count": 12,
   "id": "17f7ea33",
   "metadata": {},
   "outputs": [],
   "source": [
    "transformer = StandardScaler().fit(X)\n",
    "x_normalised = transformer.transform(X)\n",
    "x = pd.DataFrame(x_normalised)\n",
    "x.columns = X.columns"
   ]
  },
  {
   "cell_type": "code",
   "execution_count": 56,
   "id": "4b11b405",
   "metadata": {
    "scrolled": true
   },
   "outputs": [
    {
     "data": {
      "image/png": "[encoded data removed]",
      "text/plain": [
       "<Figure size 640x480 with 2 Axes>"
      ]
     },
     "metadata": {},
     "output_type": "display_data"
    }
   ],
   "source": [
    "#visually presenting correlation matrix\n",
    "corr_matrix=data01.corr(method='pearson') \n",
    "fig, ax = plt.subplots(figsize=(10, 8))\n",
    "ax = sns.heatmap(corr_matrix, annot=True)\n",
    "plt.show()"
   ]
  },
  {
   "cell_type": "markdown",
   "id": "a9dc4e8d",
   "metadata": {},
   "source": [
    "### X/Y Split"
   ]
  },
  {
   "cell_type": "code",
   "execution_count": null,
   "id": "11275d15",
   "metadata": {},
   "outputs": [],
   "source": [
    "def data_to_analyse(x):\n",
    "    if (x['rental_month']<target_month) & (x['rental_year'] <=target_year):\n",
    "        return 0\n",
    "    else:\n",
    "        return 1"
   ]
  },
  {
   "cell_type": "code",
   "execution_count": null,
   "id": "eac84680",
   "metadata": {},
   "outputs": [],
   "source": [
    "y = data['target']\n",
    "X = data01.drop('target', axis=1)"
   ]
  },
  {
   "cell_type": "code",
   "execution_count": null,
   "id": "ab1952f5",
   "metadata": {},
   "outputs": [],
   "source": [
    "X_train, X_test, y_train, y_test = train_test_split(X, y, test_size=0.25, random_state=42)"
   ]
  }
 ],
 "metadata": {
  "kernelspec": {
   "display_name": "Python 3 (ipykernel)",
   "language": "python",
   "name": "python3"
  },
  "language_info": {
   "codemirror_mode": {
    "name": "ipython",
    "version": 3
   },
   "file_extension": ".py",
   "mimetype": "text/x-python",
   "name": "python",
   "nbconvert_exporter": "python",
   "pygments_lexer": "ipython3",
   "version": "3.9.13"
  }
 },
 "nbformat": 4,
 "nbformat_minor": 5
}
